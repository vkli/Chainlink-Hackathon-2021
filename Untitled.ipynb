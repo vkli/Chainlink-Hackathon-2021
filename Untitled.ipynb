{
 "cells": [
  {
   "cell_type": "markdown",
   "metadata": {},
   "source": [
    "# Example 1 - Price Feed"
   ]
  },
  {
   "cell_type": "markdown",
   "metadata": {},
   "source": [
    "// (from https://docs.chain.link/docs/get-the-latest-price)\n",
    "\n",
    "pragma solidity ^0.6.7;\n",
    "\n",
    "import \"@chainlink/contracts/src/v0.6/interfaces/AggregatorV3Interface.sol\";\n",
    "\n",
    "contract PriceConsumerV3 {\n",
    "\n",
    "    AggregatorV3Interface internal priceFeed;\n",
    "\n",
    "    /**\n",
    "     * Network: Kovan\n",
    "     * Aggregator: ETH/USD\n",
    "     * Address: 0x9326BFA02ADD2366b30bacB125260Af641031331\n",
    "     */\n",
    "    constructor() public {\n",
    "        priceFeed = AggregatorV3Interface(0x9326BFA02ADD2366b30bacB125260Af641031331);\n",
    "    }\n",
    "\n",
    "    /**\n",
    "     * Returns the latest price\n",
    "     */\n",
    "    function getLatestPrice() public view returns (int) {\n",
    "        (\n",
    "            uint80 roundID, \n",
    "            int price,\n",
    "            uint startedAt,\n",
    "            uint timeStamp,\n",
    "            uint80 answeredInRound\n",
    "        ) = priceFeed.latestRoundData();\n",
    "        return price;\n",
    "    }\n",
    "}"
   ]
  },
  {
   "cell_type": "code",
   "execution_count": 2,
   "metadata": {},
   "outputs": [
    {
     "name": "stdout",
     "output_type": "stream",
     "text": [
      "[36893488147419109842, 210254382976, 1617767660, 1617767660, 36893488147419109842]\n"
     ]
    }
   ],
   "source": [
    "# (from https://docs.chain.link/docs/get-the-latest-price)\n",
    "\n",
    "from web3 import Web3\n",
    "\n",
    "# Change this to use your own infura ID\n",
    "web3 = Web3(Web3.HTTPProvider('https://kovan.infura.io/v3/34ed41c4cf28406885f032930d670036'))\n",
    "# AggregatorV3Interface ABI\n",
    "abi = '[{\"inputs\":[],\"name\":\"decimals\",\"outputs\":[{\"internalType\":\"uint8\",\"name\":\"\",\"type\":\"uint8\"}],\"stateMutability\":\"view\",\"type\":\"function\"},{\"inputs\":[],\"name\":\"description\",\"outputs\":[{\"internalType\":\"string\",\"name\":\"\",\"type\":\"string\"}],\"stateMutability\":\"view\",\"type\":\"function\"},{\"inputs\":[{\"internalType\":\"uint80\",\"name\":\"_roundId\",\"type\":\"uint80\"}],\"name\":\"getRoundData\",\"outputs\":[{\"internalType\":\"uint80\",\"name\":\"roundId\",\"type\":\"uint80\"},{\"internalType\":\"int256\",\"name\":\"answer\",\"type\":\"int256\"},{\"internalType\":\"uint256\",\"name\":\"startedAt\",\"type\":\"uint256\"},{\"internalType\":\"uint256\",\"name\":\"updatedAt\",\"type\":\"uint256\"},{\"internalType\":\"uint80\",\"name\":\"answeredInRound\",\"type\":\"uint80\"}],\"stateMutability\":\"view\",\"type\":\"function\"},{\"inputs\":[],\"name\":\"latestRoundData\",\"outputs\":[{\"internalType\":\"uint80\",\"name\":\"roundId\",\"type\":\"uint80\"},{\"internalType\":\"int256\",\"name\":\"answer\",\"type\":\"int256\"},{\"internalType\":\"uint256\",\"name\":\"startedAt\",\"type\":\"uint256\"},{\"internalType\":\"uint256\",\"name\":\"updatedAt\",\"type\":\"uint256\"},{\"internalType\":\"uint80\",\"name\":\"answeredInRound\",\"type\":\"uint80\"}],\"stateMutability\":\"view\",\"type\":\"function\"},{\"inputs\":[],\"name\":\"version\",\"outputs\":[{\"internalType\":\"uint256\",\"name\":\"\",\"type\":\"uint256\"}],\"stateMutability\":\"view\",\"type\":\"function\"}]'\n",
    "# Price Feed address\n",
    "addr = '0x9326BFA02ADD2366b30bacB125260Af641031331'\n",
    "\n",
    "# Set up contract instance\n",
    "contract = web3.eth.contract(address=addr, abi=abi)\n",
    "# Make call to latestRoundData()\n",
    "latestData = contract.functions.latestRoundData().call()\n",
    "print(latestData)"
   ]
  },
  {
   "cell_type": "markdown",
   "metadata": {},
   "source": [
    "# Example 2 - Deploy Contract (for now: Multiplication, later: API Call)"
   ]
  },
  {
   "cell_type": "markdown",
   "metadata": {},
   "source": [
    "// (adapted from University of Nicosia COMP541)\n",
    "\n",
    "\n",
    "//in Remix > Compiler, set compiler to 0.4.25\n",
    "pragma solidity ^0.4.24; //0.4.24 <= version < latest\n",
    "\n",
    "//import source files to inherit\n",
    "//import \"github.com/aragon/aragonOS/contracts/common/TimeHelpers.sol\";\n",
    "import \"github/aragon/aragonOS/contracts/common/TimeHelpers.sol\";\n",
    "\n",
    "//import libraries to use\n",
    "//import \"github.com/Arachnid/solidity-stringutils/src/strings.sol\";\n",
    "//import \"github.com/dapphub/ds-math/src/math.sol\";\n",
    "import \"github/Arachnid/solidity-stringutils/src/strings.sol\";\n",
    "import \"github/dapphub/ds-math/src/math.sol\";\n",
    "\n",
    "\n",
    "contract Simple{\n",
    "    \n",
    "    function arithmetics(uint _a,uint _b) public pure returns(uint o_sum, uint o_product){\n",
    "        o_sum=_a+_b;\n",
    "        o_product=_a*_b;\n",
    "    }\n",
    "    \n",
    "    function multiply(uint _a,uint _b) public pure returns(uint){\n",
    "        return _a*_b;\n",
    "    }\n",
    "}\n",
    "\n",
    "contract Test is TimeHelpers{\n",
    "    \n",
    "    //using SafeMath for uint8;\n",
    "    function time() public returns(uint64){\n",
    "        return getTimestamp64();\n",
    "    }\n",
    "    \n",
    "    \n",
    "\n",
    "    //using strings for *;\n",
    "    //var len = \"Unicode snowman\".toSlice().len();\n",
    "    \n",
    "    \n",
    "}"
   ]
  },
  {
   "cell_type": "markdown",
   "metadata": {},
   "source": [
    "// (adapted from https://docs.chain.link/docs/make-a-http-get-request)\n",
    "\n",
    "pragma solidity ^0.6.0;\n",
    "\n",
    "import \"github.com/smartcontractkit/chainlink/evm-contracts/src/v0.6/ChainlinkClient.sol\";\n",
    "\n",
    "contract APIConsumer is ChainlinkClient {\n",
    "  \n",
    "    uint256 public volume;\n",
    "    \n",
    "    address private oracle;\n",
    "    bytes32 private jobId;\n",
    "    uint256 private fee;\n",
    "    \n",
    "    /**\n",
    "     * Network: Rinkeby\n",
    "     * Oracle: 0x3A56aE4a2831C3d3514b5D7Af5578E45eBDb7a40\n",
    "     * Job ID: 3b7ca0d48c7a4b2da9268456665d11ae\n",
    "     * Fee: 0.01 LINK\n",
    "     */\n",
    "    constructor() public {\n",
    "        setPublicChainlinkToken();\n",
    "        oracle = 0x3A56aE4a2831C3d3514b5D7Af5578E45eBDb7a40;\n",
    "        jobId = \"3b7ca0d48c7a4b2da9268456665d11ae\";\n",
    "        fee = 0.01 * 10 ** 18; // 0.01 LINK\n",
    "    }\n",
    "    \n",
    "    /**\n",
    "     * Create a Chainlink request to retrieve API response, find the target\n",
    "     * data, then multiply by 1000000000000000000 (to remove decimal places from data).\n",
    "     */\n",
    "    function requestVolumeData() public returns (bytes32 requestId) \n",
    "    {\n",
    "        Chainlink.Request memory request = buildChainlinkRequest(jobId, address(this), this.fulfill.selector);\n",
    "        \n",
    "        // Set the URL to perform the GET request on\n",
    "        request.add(\"get\", \"https://min-api.cryptocompare.com/data/pricemultifull?fsyms=ETH&tsyms=USD\");\n",
    "        \n",
    "        // Set the path to find the desired data in the API response, where the response format is:\n",
    "        // {\"RAW\":\n",
    "        //   {\"ETH\":\n",
    "        //    {\"USD\":\n",
    "        //     {\n",
    "        //      \"VOLUME24HOUR\": xxx.xxx,\n",
    "        //     }\n",
    "        //    }\n",
    "        //   }\n",
    "        //  }\n",
    "        request.add(\"path\", \"RAW.ETH.USD.VOLUME24HOUR\");\n",
    "        \n",
    "        // Multiply the result by 1000000000000000000 to remove decimals\n",
    "        int timesAmount = 10**18;\n",
    "        request.addInt(\"times\", timesAmount);\n",
    "        \n",
    "        // Sends the request\n",
    "        return sendChainlinkRequestTo(oracle, request, fee);\n",
    "    }\n",
    "    \n",
    "    /**\n",
    "     * Receive the response in the form of uint256\n",
    "     */ \n",
    "    function fulfill(bytes32 _requestId, uint256 _volume) public recordChainlinkFulfillment(_requestId)\n",
    "    {\n",
    "        volume = _volume;\n",
    "    }\n",
    "}"
   ]
  },
  {
   "cell_type": "code",
   "execution_count": 1,
   "metadata": {},
   "outputs": [
    {
     "data": {
      "text/plain": [
       "136443"
      ]
     },
     "execution_count": 1,
     "metadata": {},
     "output_type": "execute_result"
    }
   ],
   "source": [
    "import json\n",
    "from web3 import Web3\n",
    "\n",
    "# HTTPProvider\n",
    "w3 = Web3(Web3.HTTPProvider('http://127.0.0.1:8545'))\n",
    "\n",
    "# set pre-funded account as sender\n",
    "w3.eth.default_account = w3.eth.accounts[0]\n",
    "#print(w3.eth.accounts[0])\n",
    "\n",
    "# get abi\n",
    "#f=open('APIConsumerabi.json','r')\n",
    "f=open('Simpleabi.json','r')\n",
    "abi=json.load(f)\n",
    "f.close()\n",
    "\n",
    "# get bytecode\n",
    "#f=open('APIConsumerbytecode.json','r')\n",
    "f=open('Simplebytecode.json','r')\n",
    "bytecode=json.load(f)\n",
    "f.close()\n",
    "bytecode=bytecode['object']\n",
    "\n",
    "# Set up contract instance\n",
    "contract = w3.eth.contract(abi=abi, bytecode=bytecode)\n",
    "\n",
    "# Estimate gas\n",
    "contract.constructor().estimateGas()"
   ]
  },
  {
   "cell_type": "markdown",
   "metadata": {},
   "source": [
    "### Unlock w3.eth.default_account in geth Javascript console"
   ]
  },
  {
   "cell_type": "code",
   "execution_count": 2,
   "metadata": {
    "scrolled": false
   },
   "outputs": [],
   "source": [
    "# Submit the transaction that deploys the contract\n",
    "tx_hash = contract.constructor().transact()"
   ]
  },
  {
   "cell_type": "code",
   "execution_count": 3,
   "metadata": {},
   "outputs": [
    {
     "name": "stdout",
     "output_type": "stream",
     "text": [
      "b\"\\xe2\\x12\\xf9\\xea\\xd5\\x9dx\\x03\\xaf'FDH\\xd6\\x99\\x0b\\x96Mi\\xab\\x86\\xa5_\\x9d\\x82\\x17\\xb9\\xaf\\xb0\\x89~\\xe6\"\n"
     ]
    }
   ],
   "source": [
    "print(tx_hash)"
   ]
  },
  {
   "cell_type": "code",
   "execution_count": 4,
   "metadata": {},
   "outputs": [],
   "source": [
    "# Wait for the transaction to be mined, and get the contract address\n",
    "tx_receipt = w3.eth.waitForTransactionReceipt(tx_hash)\n",
    "addr = tx_receipt.contractAddress"
   ]
  },
  {
   "cell_type": "markdown",
   "metadata": {},
   "source": [
    "### Mine a block in geth Javascript console, wait from \"Updated mining threads\" to \"Successfully sealed new block\""
   ]
  },
  {
   "cell_type": "code",
   "execution_count": 5,
   "metadata": {},
   "outputs": [
    {
     "name": "stdout",
     "output_type": "stream",
     "text": [
      "0xD49Eb4CF39D6F37c96749873b77F0557006A1a0b\n"
     ]
    }
   ],
   "source": [
    "print(addr)"
   ]
  },
  {
   "cell_type": "code",
   "execution_count": 6,
   "metadata": {},
   "outputs": [
    {
     "data": {
      "text/plain": [
       "50"
      ]
     },
     "execution_count": 6,
     "metadata": {},
     "output_type": "execute_result"
    }
   ],
   "source": [
    "# Fund addr with LINK\n",
    "\n",
    "# Deploy the contract\n",
    "contract = w3.eth.contract(address=addr, abi=abi)\n",
    "\n",
    "# Call the contract functions\n",
    "contract.functions.multiply(5,10).call()\n",
    "#contract.functions.greet().call()\n",
    "#'Hello'\n",
    "#tx_hash = contract.functions.setGreeting('Nihao').transact()\n",
    "#tx_receipt = w3.eth.wait_for_transaction_receipt(tx_hash)\n",
    "#contract.functions.greet().call()\n",
    "#'Nihao'"
   ]
  },
  {
   "cell_type": "code",
   "execution_count": 20,
   "metadata": {},
   "outputs": [
    {
     "name": "stdout",
     "output_type": "stream",
     "text": [
      "[{'constant': True, 'inputs': [{'name': '_a', 'type': 'uint256'}, {'name': '_b', 'type': 'uint256'}], 'name': 'multiply', 'outputs': [{'name': '', 'type': 'uint256'}], 'payable': False, 'stateMutability': 'view', 'type': 'function'}, {'constant': True, 'inputs': [{'name': '_a', 'type': 'uint256'}, {'name': '_b', 'type': 'uint256'}], 'name': 'arithmetics', 'outputs': [{'name': 'o_sum', 'type': 'uint256'}, {'name': 'o_product', 'type': 'uint256'}], 'payable': False, 'stateMutability': 'view', 'type': 'function'}]\n"
     ]
    }
   ],
   "source": [
    "print(abi)"
   ]
  },
  {
   "cell_type": "code",
   "execution_count": 21,
   "metadata": {},
   "outputs": [
    {
     "name": "stdout",
     "output_type": "stream",
     "text": [
      "608060405234801561001057600080fd5b5061013b806100206000396000f30060806040526004361061004c576000357c0100000000000000000000000000000000000000000000000000000000900463ffffffff168063165c4a16146100515780638c12d8f01461009c575b600080fd5b34801561005d57600080fd5b5061008660048036038101908080359060200190929190803590602001909291905050506100ee565b6040518082815260200191505060405180910390f35b3480156100a857600080fd5b506100d160048036038101908080359060200190929190803590602001909291905050506100fb565b604051808381526020018281526020019250505060405180910390f35b6000818302905092915050565b6000808284019150828402905092509290505600a165627a7a72305820bb3d89b7fcb6d70c6ea89ef997f906932552c2b4edab9d902666ca1fa054ea390029\n"
     ]
    }
   ],
   "source": [
    "print(bytecode)"
   ]
  },
  {
   "cell_type": "code",
   "execution_count": 5,
   "metadata": {},
   "outputs": [
    {
     "name": "stdout",
     "output_type": "stream",
     "text": [
      "['0x1C63AAC663d6E1562741e8f8A9382f5AFBCc2eF7', '0x286c39246750F8FD91a58000f96C710E03869306', '0xdfe203a67d17eFF6e730d925F7781385DbD96c81', '0x6b862B7E5d989256ECD26D56c03bEf96bfA826E9']\n",
      "0x1C63AAC663d6E1562741e8f8A9382f5AFBCc2eF7\n",
      "23236797729235784806170624\n",
      "23236797.729235784806170624\n"
     ]
    }
   ],
   "source": [
    "import json\n",
    "from web3 import Web3\n",
    "\n",
    "# Rinkeby HTTPProvider\n",
    "w3 = Web3(Web3.HTTPProvider('http://127.0.0.1:8545'))\n",
    "\n",
    "print(w3.eth.accounts)\n",
    "print(w3.eth.accounts[0])\n",
    "print(w3.eth.getBalance(w3.eth.accounts[0]))\n",
    "print(w3.fromWei(w3.eth.getBalance(w3.eth.accounts[0]),\"ether\"))"
   ]
  },
  {
   "cell_type": "markdown",
   "metadata": {},
   "source": [
    "# Project - Get Time From Google and Publish to Blockchain"
   ]
  },
  {
   "cell_type": "markdown",
   "metadata": {},
   "source": [
    "### Same as second contract above  (API Call, adapted from https://docs.chain.link/docs/make-a-http-get-request), but replace with HttpGet(\"https://google.com/\") as below:"
   ]
  },
  {
   "cell_type": "markdown",
   "metadata": {},
   "source": [
    "Adapted from https://stackoverflow.com/questions/31789922/how-to-get-current-time-from-google-for-android :\n",
    "\n",
    "try{\n",
    "        HttpClient httpclient = new DefaultHttpClient();\n",
    "        HttpResponse response = httpclient.execute(new HttpGet(\"https://google.com/\"));\n",
    "        StatusLine statusLine = response.getStatusLine();\n",
    "        if(statusLine.getStatusCode() == HttpStatus.SC_OK){\n",
    "            String dateStr = response.getFirstHeader(\"Date\").getValue();\n",
    "            //Here I do something with the Date String\n",
    "            System.out.println(dateStr);\n",
    "\n",
    "        } else{\n",
    "            //Closes the connection.\n",
    "            response.getEntity().getContent().close();\n",
    "            throw new IOException(statusLine.getReasonPhrase());\n",
    "        }\n",
    "    }catch (ClientProtocolException e) {\n",
    "        Log.d(\"Response\", e.getMessage());\n",
    "    }catch (IOException e) {\n",
    "        Log.d(\"Response\", e.getMessage());\n",
    "    }"
   ]
  },
  {
   "cell_type": "code",
   "execution_count": null,
   "metadata": {},
   "outputs": [],
   "source": []
  }
 ],
 "metadata": {
  "kernelspec": {
   "display_name": "Python 3",
   "language": "python",
   "name": "python3"
  },
  "language_info": {
   "codemirror_mode": {
    "name": "ipython",
    "version": 3
   },
   "file_extension": ".py",
   "mimetype": "text/x-python",
   "name": "python",
   "nbconvert_exporter": "python",
   "pygments_lexer": "ipython3",
   "version": "3.7.9"
  }
 },
 "nbformat": 4,
 "nbformat_minor": 2
}
