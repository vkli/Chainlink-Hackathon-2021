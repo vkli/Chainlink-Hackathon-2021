{
 "cells": [
  {
   "cell_type": "markdown",
   "metadata": {},
   "source": [
    "# Example 1 - Price Feed"
   ]
  },
  {
   "cell_type": "markdown",
   "metadata": {},
   "source": [
    "https://docs.chain.link/docs/get-the-latest-price\n",
    "\n",
    "pragma solidity ^0.6.7;\n",
    "\n",
    "import \"@chainlink/contracts/src/v0.6/interfaces/AggregatorV3Interface.sol\";\n",
    "\n",
    "contract PriceConsumerV3 {\n",
    "\n",
    "    AggregatorV3Interface internal priceFeed;\n",
    "\n",
    "    /**\n",
    "     * Network: Kovan\n",
    "     * Aggregator: ETH/USD\n",
    "     * Address: 0x9326BFA02ADD2366b30bacB125260Af641031331\n",
    "     */\n",
    "    constructor() public {\n",
    "        priceFeed = AggregatorV3Interface(0x9326BFA02ADD2366b30bacB125260Af641031331);\n",
    "    }\n",
    "\n",
    "    /**\n",
    "     * Returns the latest price\n",
    "     */\n",
    "    function getLatestPrice() public view returns (int) {\n",
    "        (\n",
    "            uint80 roundID, \n",
    "            int price,\n",
    "            uint startedAt,\n",
    "            uint timeStamp,\n",
    "            uint80 answeredInRound\n",
    "        ) = priceFeed.latestRoundData();\n",
    "        return price;\n",
    "    }\n",
    "}"
   ]
  },
  {
   "cell_type": "code",
   "execution_count": 2,
   "metadata": {},
   "outputs": [
    {
     "name": "stdout",
     "output_type": "stream",
     "text": [
      "[36893488147419109842, 210254382976, 1617767660, 1617767660, 36893488147419109842]\n"
     ]
    }
   ],
   "source": [
    "from web3 import Web3\n",
    "\n",
    "# Change this to use your own infura ID\n",
    "web3 = Web3(Web3.HTTPProvider('https://kovan.infura.io/v3/34ed41c4cf28406885f032930d670036'))\n",
    "# AggregatorV3Interface ABI\n",
    "abi = '[{\"inputs\":[],\"name\":\"decimals\",\"outputs\":[{\"internalType\":\"uint8\",\"name\":\"\",\"type\":\"uint8\"}],\"stateMutability\":\"view\",\"type\":\"function\"},{\"inputs\":[],\"name\":\"description\",\"outputs\":[{\"internalType\":\"string\",\"name\":\"\",\"type\":\"string\"}],\"stateMutability\":\"view\",\"type\":\"function\"},{\"inputs\":[{\"internalType\":\"uint80\",\"name\":\"_roundId\",\"type\":\"uint80\"}],\"name\":\"getRoundData\",\"outputs\":[{\"internalType\":\"uint80\",\"name\":\"roundId\",\"type\":\"uint80\"},{\"internalType\":\"int256\",\"name\":\"answer\",\"type\":\"int256\"},{\"internalType\":\"uint256\",\"name\":\"startedAt\",\"type\":\"uint256\"},{\"internalType\":\"uint256\",\"name\":\"updatedAt\",\"type\":\"uint256\"},{\"internalType\":\"uint80\",\"name\":\"answeredInRound\",\"type\":\"uint80\"}],\"stateMutability\":\"view\",\"type\":\"function\"},{\"inputs\":[],\"name\":\"latestRoundData\",\"outputs\":[{\"internalType\":\"uint80\",\"name\":\"roundId\",\"type\":\"uint80\"},{\"internalType\":\"int256\",\"name\":\"answer\",\"type\":\"int256\"},{\"internalType\":\"uint256\",\"name\":\"startedAt\",\"type\":\"uint256\"},{\"internalType\":\"uint256\",\"name\":\"updatedAt\",\"type\":\"uint256\"},{\"internalType\":\"uint80\",\"name\":\"answeredInRound\",\"type\":\"uint80\"}],\"stateMutability\":\"view\",\"type\":\"function\"},{\"inputs\":[],\"name\":\"version\",\"outputs\":[{\"internalType\":\"uint256\",\"name\":\"\",\"type\":\"uint256\"}],\"stateMutability\":\"view\",\"type\":\"function\"}]'\n",
    "# Price Feed address\n",
    "addr = '0x9326BFA02ADD2366b30bacB125260Af641031331'\n",
    "\n",
    "# Set up contract instance\n",
    "contract = web3.eth.contract(address=addr, abi=abi)\n",
    "# Make call to latestRoundData()\n",
    "latestData = contract.functions.latestRoundData().call()\n",
    "print(latestData)"
   ]
  },
  {
   "cell_type": "markdown",
   "metadata": {},
   "source": [
    "# Example 2 - API Call"
   ]
  },
  {
   "cell_type": "markdown",
   "metadata": {},
   "source": [
    "https://docs.chain.link/docs/make-a-http-get-request\n",
    "\n",
    "pragma solidity ^0.6.0;\n",
    "\n",
    "import \"@chainlink/contracts/src/v0.6/ChainlinkClient.sol\";\n",
    "\n",
    "contract APIConsumer is ChainlinkClient {\n",
    "  \n",
    "    uint256 public volume;\n",
    "    \n",
    "    address private oracle;\n",
    "    bytes32 private jobId;\n",
    "    uint256 private fee;\n",
    "    \n",
    "    /**\n",
    "     * Network: Kovan\n",
    "     * Oracle: 0x2f90A6D021db21e1B2A077c5a37B3C7E75D15b7e\n",
    "     * Job ID: 29fa9aa13bf1468788b7cc4a500a45b8\n",
    "     * Fee: 0.1 LINK\n",
    "     */\n",
    "    constructor() public {\n",
    "        setPublicChainlinkToken();\n",
    "        oracle = 0x2f90A6D021db21e1B2A077c5a37B3C7E75D15b7e;\n",
    "        jobId = \"29fa9aa13bf1468788b7cc4a500a45b8\";\n",
    "        fee = 0.1 * 10 ** 18; // 0.1 LINK\n",
    "    }\n",
    "    \n",
    "    /**\n",
    "     * Create a Chainlink request to retrieve API response, find the target\n",
    "     * data, then multiply by 1000000000000000000 (to remove decimal places from data).\n",
    "     */\n",
    "    function requestVolumeData() public returns (bytes32 requestId) \n",
    "    {\n",
    "        Chainlink.Request memory request = buildChainlinkRequest(jobId, address(this), this.fulfill.selector);\n",
    "        \n",
    "        // Set the URL to perform the GET request on\n",
    "        request.add(\"get\", \"https://min-api.cryptocompare.com/data/pricemultifull?fsyms=ETH&tsyms=USD\");\n",
    "        \n",
    "        // Set the path to find the desired data in the API response, where the response format is:\n",
    "        // {\"RAW\":\n",
    "        //   {\"ETH\":\n",
    "        //    {\"USD\":\n",
    "        //     {\n",
    "        //      \"VOLUME24HOUR\": xxx.xxx,\n",
    "        //     }\n",
    "        //    }\n",
    "        //   }\n",
    "        //  }\n",
    "        request.add(\"path\", \"RAW.ETH.USD.VOLUME24HOUR\");\n",
    "        \n",
    "        // Multiply the result by 1000000000000000000 to remove decimals\n",
    "        int timesAmount = 10**18;\n",
    "        request.addInt(\"times\", timesAmount);\n",
    "        \n",
    "        // Sends the request\n",
    "        return sendChainlinkRequestTo(oracle, request, fee);\n",
    "    }\n",
    "    \n",
    "    /**\n",
    "     * Receive the response in the form of uint256\n",
    "     */ \n",
    "    function fulfill(bytes32 _requestId, uint256 _volume) public recordChainlinkFulfillment(_requestId)\n",
    "    {\n",
    "        volume = _volume;\n",
    "    }\n",
    "}"
   ]
  },
  {
   "cell_type": "code",
   "execution_count": null,
   "metadata": {},
   "outputs": [],
   "source": []
  },
  {
   "cell_type": "markdown",
   "metadata": {},
   "source": [
    "# Project - Get Time From Google and Publish to Blockchain"
   ]
  },
  {
   "cell_type": "markdown",
   "metadata": {},
   "source": [
    "Adapted from https://stackoverflow.com/questions/31789922/how-to-get-current-time-from-google-for-android :\n",
    "\n",
    "try{\n",
    "        HttpClient httpclient = new DefaultHttpClient();\n",
    "        HttpResponse response = httpclient.execute(new HttpGet(\"https://google.com/\"));\n",
    "        StatusLine statusLine = response.getStatusLine();\n",
    "        if(statusLine.getStatusCode() == HttpStatus.SC_OK){\n",
    "            String dateStr = response.getFirstHeader(\"Date\").getValue();\n",
    "            //Here I do something with the Date String\n",
    "            System.out.println(dateStr);\n",
    "\n",
    "        } else{\n",
    "            //Closes the connection.\n",
    "            response.getEntity().getContent().close();\n",
    "            throw new IOException(statusLine.getReasonPhrase());\n",
    "        }\n",
    "    }catch (ClientProtocolException e) {\n",
    "        Log.d(\"Response\", e.getMessage());\n",
    "    }catch (IOException e) {\n",
    "        Log.d(\"Response\", e.getMessage());\n",
    "    }"
   ]
  },
  {
   "cell_type": "code",
   "execution_count": null,
   "metadata": {},
   "outputs": [],
   "source": []
  }
 ],
 "metadata": {
  "kernelspec": {
   "display_name": "Python 3",
   "language": "python",
   "name": "python3"
  },
  "language_info": {
   "codemirror_mode": {
    "name": "ipython",
    "version": 3
   },
   "file_extension": ".py",
   "mimetype": "text/x-python",
   "name": "python",
   "nbconvert_exporter": "python",
   "pygments_lexer": "ipython3",
   "version": "3.7.9"
  }
 },
 "nbformat": 4,
 "nbformat_minor": 2
}
